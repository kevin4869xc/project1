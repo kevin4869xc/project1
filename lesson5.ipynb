{
 "cells": [
  {
   "cell_type": "code",
   "execution_count": 1,
   "metadata": {},
   "outputs": [
    {
     "name": "stdout",
     "output_type": "stream",
     "text": [
      "git\n"
     ]
    }
   ],
   "source": [
    "print(\"git\")"
   ]
  },
  {
   "cell_type": "code",
   "execution_count": 2,
   "metadata": {},
   "outputs": [
    {
     "data": {
      "text/plain": [
       "0.32603290516023664"
      ]
     },
     "execution_count": 2,
     "metadata": {},
     "output_type": "execute_result"
    }
   ],
   "source": [
    "import random\n",
    "random.random()"
   ]
  },
  {
   "cell_type": "code",
   "execution_count": 3,
   "metadata": {},
   "outputs": [
    {
     "name": "stdout",
     "output_type": "stream",
     "text": [
      "4.800271890242341\n",
      "99.32582374363444\n"
     ]
    }
   ],
   "source": [
    "print(random.uniform(1,10))\n",
    "print(random.uniform(99,100))"
   ]
  },
  {
   "cell_type": "code",
   "execution_count": 4,
   "metadata": {},
   "outputs": [
    {
     "data": {
      "text/plain": [
       "1.997095772753003"
      ]
     },
     "execution_count": 4,
     "metadata": {},
     "output_type": "execute_result"
    }
   ],
   "source": [
    "random.uniform(1,10)"
   ]
  },
  {
   "cell_type": "code",
   "execution_count": 5,
   "metadata": {},
   "outputs": [
    {
     "name": "stdout",
     "output_type": "stream",
     "text": [
      "3\n"
     ]
    }
   ],
   "source": [
    "random_value = random.randint(1,10)\n",
    "print(random_value)"
   ]
  },
  {
   "cell_type": "code",
   "execution_count": 25,
   "metadata": {},
   "outputs": [
    {
     "name": "stdout",
     "output_type": "stream",
     "text": [
      "==========猜數字遊戲==========\n",
      "再小一點\n",
      "猜錯了, 已猜了1次\n",
      "再小一點\n",
      "猜錯了, 已猜了2次\n",
      "再小一點\n",
      "猜錯了, 已猜了3次\n",
      "再小一點\n",
      "猜錯了, 已猜了4次\n",
      "猜對了，共猜了5次\n"
     ]
    }
   ],
   "source": [
    "min = 0\n",
    "max = 10\n",
    "count = 0\n",
    "random_value = random.randint(min,max)\n",
    "print(\"==========猜數字遊戲==========\")\n",
    "while True:\n",
    "    keyin = eval(input(f\"請輸入{min}~{max}的數字\"))\n",
    "    count += 1\n",
    "    if keyin >= min and keyin <= max:\n",
    "        if keyin == random_value:\n",
    "            print(f\"猜對了，共猜了{count}次\")\n",
    "            break\n",
    "        elif keyin > random_value:\n",
    "            print(\"再小一點\")\n",
    "            max = keyin - 1\n",
    "        elif keyin < random_value:\n",
    "            print(\"再大一點\")\n",
    "            min = keyin + 1    \n",
    "        print(f\"猜錯了, 已猜了{count}次\")\n",
    "    else:\n",
    "        print(f\"超出範圍, 已猜了{count}次\")"
   ]
  }
 ],
 "metadata": {
  "kernelspec": {
   "display_name": "Python 3.7.3 ('venv001')",
   "language": "python",
   "name": "python3"
  },
  "language_info": {
   "codemirror_mode": {
    "name": "ipython",
    "version": 3
   },
   "file_extension": ".py",
   "mimetype": "text/x-python",
   "name": "python",
   "nbconvert_exporter": "python",
   "pygments_lexer": "ipython3",
   "version": "3.7.3"
  },
  "orig_nbformat": 4,
  "vscode": {
   "interpreter": {
    "hash": "f34e4f0de2496ba420d8f8acdfb27536031422235674b4ec33b56b58e2d87636"
   }
  }
 },
 "nbformat": 4,
 "nbformat_minor": 2
}
