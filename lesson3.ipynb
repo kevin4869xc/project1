{
 "cells": [
  {
   "cell_type": "code",
   "execution_count": 1,
   "metadata": {},
   "outputs": [
    {
     "name": "stdout",
     "output_type": "stream",
     "text": [
      "Hello! Python\n"
     ]
    }
   ],
   "source": [
    "print(\"Hello! Python\")"
   ]
  },
  {
   "cell_type": "code",
   "execution_count": 2,
   "metadata": {},
   "outputs": [
    {
     "data": {
      "text/plain": [
       "False"
      ]
     },
     "execution_count": 2,
     "metadata": {},
     "output_type": "execute_result"
    }
   ],
   "source": [
    "x = 7\n",
    "x == 5 #比較運算子"
   ]
  },
  {
   "cell_type": "code",
   "execution_count": 3,
   "metadata": {},
   "outputs": [
    {
     "data": {
      "text/plain": [
       "True"
      ]
     },
     "execution_count": 3,
     "metadata": {},
     "output_type": "execute_result"
    }
   ],
   "source": [
    "x == 7 #比較運算子"
   ]
  },
  {
   "cell_type": "code",
   "execution_count": 5,
   "metadata": {},
   "outputs": [
    {
     "name": "stdout",
     "output_type": "stream",
     "text": [
      "及格\n",
      "sophia的成績是80\n"
     ]
    }
   ],
   "source": [
    "chinese_str = input(\"請輸入國文成績:\")\n",
    "chinese_int = int(chinese_str)\n",
    "if chinese_int >= 60:\n",
    "    print(\"及格\")\n",
    "    print(f\"sophia的成績是{chinese_str}\")\n",
    "else:\n",
    "    print(\"不及格\")\n",
    "    print(\"sophia要請德德補習\")"
   ]
  },
  {
   "cell_type": "code",
   "execution_count": 11,
   "metadata": {},
   "outputs": [
    {
     "name": "stdout",
     "output_type": "stream",
     "text": [
      "乙\n"
     ]
    }
   ],
   "source": [
    "a = int(input(\"請輸入學期總成績:\"))\n",
    "if a >= 90:\n",
    "    print(\"優\")\n",
    "elif a >= 80:\n",
    "    print(\"甲\")\n",
    "elif a >= 70:\n",
    "    print(\"乙\")\n",
    "elif a >= 60:\n",
    "    print(\"丙\")\n",
    "else:\n",
    "    print(\"丁\")"
   ]
  },
  {
   "cell_type": "code",
   "execution_count": 1,
   "metadata": {},
   "outputs": [
    {
     "name": "stdout",
     "output_type": "stream",
     "text": [
      "更新\n"
     ]
    }
   ],
   "source": [
    "print(\"更新\")"
   ]
  }
 ],
 "metadata": {
  "kernelspec": {
   "display_name": "Python 3.7.3 ('venv01')",
   "language": "python",
   "name": "python3"
  },
  "language_info": {
   "codemirror_mode": {
    "name": "ipython",
    "version": 3
   },
   "file_extension": ".py",
   "mimetype": "text/x-python",
   "name": "python",
   "nbconvert_exporter": "python",
   "pygments_lexer": "ipython3",
   "version": "3.7.3"
  },
  "orig_nbformat": 4,
  "vscode": {
   "interpreter": {
    "hash": "6dc4338d51212cbb7ad5c9a813f6f8cbdb83cea4dc3d33b818d1d36353ec29e6"
   }
  }
 },
 "nbformat": 4,
 "nbformat_minor": 2
}
