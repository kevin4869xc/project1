{
 "cells": [
  {
   "cell_type": "code",
   "execution_count": 5,
   "metadata": {},
   "outputs": [
    {
     "name": "stdout",
     "output_type": "stream",
     "text": [
      "金城武\n"
     ]
    }
   ],
   "source": [
    "#輸入, input\n",
    "#輸出, print\n",
    "name = input(\"請輸入您的姓名:\")\n",
    "print(name)"
   ]
  },
  {
   "cell_type": "code",
   "execution_count": 8,
   "metadata": {},
   "outputs": [
    {
     "name": "stdout",
     "output_type": "stream",
     "text": [
      "您的名字是金城武\n"
     ]
    }
   ],
   "source": [
    "print(f\"您的名字是{name}\")"
   ]
  },
  {
   "cell_type": "code",
   "execution_count": 9,
   "metadata": {},
   "outputs": [
    {
     "name": "stdout",
     "output_type": "stream",
     "text": [
      "您的姓名是30公分\n",
      "中文分數是78,英文分數是60\n",
      "總分是138,平均是69.0\n"
     ]
    }
   ],
   "source": [
    "#字串插補\n",
    "name = \"30公分\"\n",
    "chinese = 78\n",
    "english = 60\n",
    "sum = chinese + english\n",
    "average = sum / 2\n",
    "\n",
    "print(f\"您的姓名是{name}\")\n",
    "print(f\"中文分數是{chinese},英文分數是{english}\")\n",
    "print(f\"總分是{sum},平均是{average}\")\n"
   ]
  },
  {
   "cell_type": "code",
   "execution_count": 18,
   "metadata": {},
   "outputs": [
    {
     "name": "stdout",
     "output_type": "stream",
     "text": [
      "國文分數是89.6, 英文分數是95.6, 總分是185.2\n"
     ]
    }
   ],
   "source": [
    "國文分數=eval(input(\"請問國文分數 : \"))\n",
    "英文分數=eval(input(\"請問英文分數 : \"))\n",
    "\n",
    "\n",
    "#總分 = 國文分數 + 英文分數\n",
    "print(f\"國文分數是{國文分數}, 英文分數是{英文分數}, 總分是{國文分數+英文分數}\")"
   ]
  },
  {
   "cell_type": "code",
   "execution_count": 19,
   "metadata": {},
   "outputs": [
    {
     "name": "stdout",
     "output_type": "stream",
     "text": [
      "請問梯形面積\n",
      "面積: 18.0\n"
     ]
    }
   ],
   "source": [
    "print(\"請問梯形面積\")\n",
    "top = eval(input(\"請輸入上底 : \"))\n",
    "bottom = eval(input(\"請輸入下底 : \"))\n",
    "high = eval(input(\"請輸入高 : \"))\n",
    "\n",
    "print(f\"面積: {(top+bottom)*high/2}\")"
   ]
  },
  {
   "cell_type": "code",
   "execution_count": 22,
   "metadata": {},
   "outputs": [
    {
     "name": "stdout",
     "output_type": "stream",
     "text": [
      "46\n",
      "45\n"
     ]
    }
   ],
   "source": [
    "import math\n",
    "print(math.ceil(45.1))\n",
    "print(math.floor(45.1))"
   ]
  }
 ],
 "metadata": {
  "kernelspec": {
   "display_name": "Python 3.7.3 ('venv001')",
   "language": "python",
   "name": "python3"
  },
  "language_info": {
   "codemirror_mode": {
    "name": "ipython",
    "version": 3
   },
   "file_extension": ".py",
   "mimetype": "text/x-python",
   "name": "python",
   "nbconvert_exporter": "python",
   "pygments_lexer": "ipython3",
   "version": "3.7.3"
  },
  "orig_nbformat": 4,
  "vscode": {
   "interpreter": {
    "hash": "f34e4f0de2496ba420d8f8acdfb27536031422235674b4ec33b56b58e2d87636"
   }
  }
 },
 "nbformat": 4,
 "nbformat_minor": 2
}
