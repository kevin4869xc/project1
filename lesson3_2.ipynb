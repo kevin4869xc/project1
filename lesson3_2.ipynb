{
 "cells": [
  {
   "cell_type": "code",
   "execution_count": 2,
   "metadata": {},
   "outputs": [
    {
     "name": "stdout",
     "output_type": "stream",
     "text": [
      "獎金是500\n"
     ]
    }
   ],
   "source": [
    "#邏輯運算子\n",
    "chinese = int(input(\"國文分數\"))\n",
    "math = int(input(\"數學分數\"))\n",
    "if chinese == 100 and math == 100:\n",
    "    bonus = 1000\n",
    "elif chinese == 100 or math == 100:\n",
    "    bonus = 500\n",
    "else:\n",
    "    bonus = 0\n",
    "print(f\"獎金是{bonus}\")"
   ]
  },
  {
   "cell_type": "code",
   "execution_count": 7,
   "metadata": {},
   "outputs": [
    {
     "name": "stdout",
     "output_type": "stream",
     "text": [
      "Bmi是23.66\n",
      "正常\n"
     ]
    }
   ],
   "source": [
    "height = eval(input(\"請輸入身高(cm):\"))\n",
    "weight = eval(input(\"請輸入體重(kg):\"))\n",
    "bmi = weight / (height/100)**2\n",
    "print(f\"Bmi是{bmi:.2f}\")\n",
    "if bmi >= 35:\n",
    "    print(\"重度肥胖\")\n",
    "elif bmi >= 30:\n",
    "    print(\"中度肥胖\")\n",
    "elif bmi >= 27:\n",
    "    print(\"輕度肥胖\")\n",
    "elif bmi >= 24:\n",
    "    print(\"過重\")\n",
    "elif bmi >= 18.5:\n",
    "    print(\"正常\")\n",
    "else:\n",
    "    print(\"過輕\")"
   ]
  }
 ],
 "metadata": {
  "kernelspec": {
   "display_name": "Python 3.7.3 ('venv01')",
   "language": "python",
   "name": "python3"
  },
  "language_info": {
   "codemirror_mode": {
    "name": "ipython",
    "version": 3
   },
   "file_extension": ".py",
   "mimetype": "text/x-python",
   "name": "python",
   "nbconvert_exporter": "python",
   "pygments_lexer": "ipython3",
   "version": "3.7.3"
  },
  "orig_nbformat": 4,
  "vscode": {
   "interpreter": {
    "hash": "6dc4338d51212cbb7ad5c9a813f6f8cbdb83cea4dc3d33b818d1d36353ec29e6"
   }
  }
 },
 "nbformat": 4,
 "nbformat_minor": 2
}
