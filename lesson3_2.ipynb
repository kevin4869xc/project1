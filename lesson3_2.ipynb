{
 "cells": [
  {
   "cell_type": "code",
   "execution_count": 2,
   "metadata": {},
   "outputs": [
    {
     "name": "stdout",
     "output_type": "stream",
     "text": [
      "獎金是500\n"
     ]
    }
   ],
   "source": [
    "#邏輯運算子\n",
    "chinese = int(input(\"國文分數\"))\n",
    "math = int(input(\"數學分數\"))\n",
    "if chinese == 100 and math == 100:\n",
    "    bonus = 1000\n",
    "elif chinese == 100 or math == 100:\n",
    "    bonus = 500\n",
    "else:\n",
    "    bonus = 0\n",
    "print(f\"獎金是{bonus}\")"
   ]
  },
  {
   "cell_type": "code",
   "execution_count": 7,
   "metadata": {},
   "outputs": [
    {
     "name": "stdout",
     "output_type": "stream",
     "text": [
      "Bmi是23.66\n",
      "正常\n"
     ]
    }
   ],
   "source": [
    "height = eval(input(\"請輸入身高(cm):\"))\n",
    "weight = eval(input(\"請輸入體重(kg):\"))\n",
    "bmi = weight / (height/100)**2\n",
    "print(f\"Bmi是{bmi:.2f}\")\n",
    "if bmi >= 35:\n",
    "    print(\"重度肥胖\")\n",
    "elif bmi >= 30:\n",
    "    print(\"中度肥胖\")\n",
    "elif bmi >= 27:\n",
    "    print(\"輕度肥胖\")\n",
    "elif bmi >= 24:\n",
    "    print(\"過重\")\n",
    "elif bmi >= 18.5:\n",
    "    print(\"正常\")\n",
    "else:\n",
    "    print(\"過輕\")"
   ]
  },
  {
   "cell_type": "code",
   "execution_count": 6,
   "metadata": {},
   "outputs": [
    {
     "name": "stdout",
     "output_type": "stream",
     "text": [
      "原價為80000.00, 特價為68000.00\n"
     ]
    }
   ],
   "source": [
    "#作業\n",
    "'''\n",
    "輸入顧客購買金額，若金額在\n",
    "100000元打8折. \n",
    "50000打85折. \n",
    "30000打9折. \n",
    "10000打95折. \n",
    "\n",
    "請輸入購買金額:130000\n",
    "實付金額是: 104000.0 元\n",
    "'''\n",
    "original_price = eval(input(\"輸入顧客購買金額:\"))\n",
    "if original_price >= 100000:\n",
    "    payment = original_price * 0.8\n",
    "elif original_price >= 50000:\n",
    "    payment = original_price * 0.85\n",
    "elif original_price >= 30000:\n",
    "    payment = original_price * 0.9\n",
    "elif original_price >= 10000:\n",
    "    payment = original_price * 0.95\n",
    "else:\n",
    "    payment = original_price\n",
    "print(f\"原價為{original_price:.2f}, 特價為{payment:.2f}\")"
   ]
  },
  {
   "cell_type": "code",
   "execution_count": 11,
   "metadata": {},
   "outputs": [
    {
     "name": "stdout",
     "output_type": "stream",
     "text": [
      "購買金額為130000,打8折後,實付金額為104000.0\n"
     ]
    }
   ],
   "source": [
    "#作業\n",
    "'''\n",
    "輸入顧客購買金額，若金額在\n",
    "100000元打8折. \n",
    "50000打85折. \n",
    "30000打9折. \n",
    "10000打95折. \n",
    "\n",
    "請輸入購買金額:130000\n",
    "實付金額是: 104000.0 元\n",
    "'''\n",
    "original_price = eval(input(\"輸入顧客購買金額:\"))\n",
    "if original_price >= 100000:\n",
    "    payment = original_price * 0.8\n",
    "    discount = \"打8折後\"\n",
    "elif original_price >= 50000:\n",
    "    payment = original_price * 0.85\n",
    "    discount = \"打85折後\"\n",
    "elif original_price >= 30000:\n",
    "    payment = original_price * 0.9\n",
    "    discount = \"打9折後\"\n",
    "elif original_price >= 10000:\n",
    "    payment = original_price * 0.95\n",
    "    discount = \"打95折後\"\n",
    "else:\n",
    "    payment = original_price\n",
    "    discount = \"不打折\"\n",
    "print(f\"購買金額為{original_price:.0f},{discount},實付金額為{payment:.1f}\")"
   ]
  }
 ],
 "metadata": {
  "kernelspec": {
   "display_name": "Python 3.7.3 ('venv001')",
   "language": "python",
   "name": "python3"
  },
  "language_info": {
   "codemirror_mode": {
    "name": "ipython",
    "version": 3
   },
   "file_extension": ".py",
   "mimetype": "text/x-python",
   "name": "python",
   "nbconvert_exporter": "python",
   "pygments_lexer": "ipython3",
   "version": "3.7.3"
  },
  "orig_nbformat": 4,
  "vscode": {
   "interpreter": {
    "hash": "f34e4f0de2496ba420d8f8acdfb27536031422235674b4ec33b56b58e2d87636"
   }
  }
 },
 "nbformat": 4,
 "nbformat_minor": 2
}
