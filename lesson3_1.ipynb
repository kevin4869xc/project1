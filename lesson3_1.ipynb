{
 "cells": [
  {
   "cell_type": "code",
   "execution_count": 6,
   "metadata": {},
   "outputs": [
    {
     "name": "stdout",
     "output_type": "stream",
     "text": [
      "獎金是0\n"
     ]
    }
   ],
   "source": [
    "chinese = int(input(\"國文分數\"))\n",
    "math = int(input(\"數學分數\"))\n",
    "if chinese == 100:\n",
    "    if math == 100:\n",
    "        bonus = 1000\n",
    "    else:\n",
    "        bonus = 500\n",
    "else:\n",
    "    if math == 100:\n",
    "        bonus = 500\n",
    "    else:\n",
    "        bonus = 0\n",
    "print(f\"獎金是{bonus}\")"
   ]
  },
  {
   "cell_type": "code",
   "execution_count": 13,
   "metadata": {},
   "outputs": [
    {
     "name": "stdout",
     "output_type": "stream",
     "text": [
      "傳回值是虛數\n"
     ]
    }
   ],
   "source": [
    "#作業\n",
    "'''\n",
    "巢狀選擇\n",
    "• 如果x不是負數，則傳回值為 x ** (1 / y)。\n",
    "• 如果x是負數而且y為偶數，則傳回值為\"虛數\"。\n",
    "• 如果x是負數而且y為奇數，則傳回值為 -(-x) ** (1 / y)。\n",
    "\n",
    "'''\n",
    "x = eval(input(\"請輸入X\"))\n",
    "y = eval(input(\"請輸入y\"))\n",
    "if x >= 0:\n",
    "    傳回值 = x ** (1/y)\n",
    "elif y % 2 == 0:\n",
    "    傳回值 = \"虛數\"\n",
    "else:\n",
    "    傳回值 = -(-x) ** (1 / y)\n",
    "\n",
    "print(f\"傳回值是{傳回值}\")"
   ]
  }
 ],
 "metadata": {
  "kernelspec": {
   "display_name": "Python 3.7.3 ('venv001')",
   "language": "python",
   "name": "python3"
  },
  "language_info": {
   "codemirror_mode": {
    "name": "ipython",
    "version": 3
   },
   "file_extension": ".py",
   "mimetype": "text/x-python",
   "name": "python",
   "nbconvert_exporter": "python",
   "pygments_lexer": "ipython3",
   "version": "3.7.3"
  },
  "orig_nbformat": 4,
  "vscode": {
   "interpreter": {
    "hash": "f34e4f0de2496ba420d8f8acdfb27536031422235674b4ec33b56b58e2d87636"
   }
  }
 },
 "nbformat": 4,
 "nbformat_minor": 2
}
