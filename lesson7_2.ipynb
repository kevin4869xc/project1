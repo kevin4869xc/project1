{
 "cells": [
  {
   "cell_type": "code",
   "execution_count": 11,
   "metadata": {},
   "outputs": [],
   "source": [
    "def menu(wine, entree, dessert='寶貝'):\n",
    "    print(f\"酒是{wine}\")\n",
    "    print(f\"主餐是{entree}\")\n",
    "    print(f\"甜點是{dessert}\")"
   ]
  },
  {
   "cell_type": "code",
   "execution_count": 12,
   "metadata": {},
   "outputs": [
    {
     "name": "stdout",
     "output_type": "stream",
     "text": [
      "酒是Gin tonic\n",
      "主餐是fries\n",
      "甜點是寶貝\n"
     ]
    }
   ],
   "source": [
    "menu(\"Gin tonic\",\"fries\")"
   ]
  },
  {
   "cell_type": "code",
   "execution_count": 17,
   "metadata": {},
   "outputs": [
    {
     "name": "stdout",
     "output_type": "stream",
     "text": [
      "酒是Gin tonic\n",
      "主餐是fries\n",
      "甜點是布朗尼\n"
     ]
    }
   ],
   "source": [
    "menu(\"Gin tonic\",\"fries\",dessert=\"布朗尼\")"
   ]
  },
  {
   "cell_type": "code",
   "execution_count": 18,
   "metadata": {},
   "outputs": [
    {
     "name": "stdout",
     "output_type": "stream",
     "text": [
      "酒是Gin tonic\n",
      "主餐是fries\n",
      "甜點是Sophia\n"
     ]
    }
   ],
   "source": [
    "menu(\"Gin tonic\",\"fries\",\"Sophia\")"
   ]
  },
  {
   "cell_type": "code",
   "execution_count": 9,
   "metadata": {},
   "outputs": [],
   "source": [
    "#如果參數有預設值,預設值一定要放在最後\n",
    "def menu1(wine, entree, dessert='奶昔'):\n",
    "    print(f\"wine={wine}\")\n",
    "    print(f\"entree={entree}\")\n",
    "    print(f\"dessert={dessert}\")"
   ]
  },
  {
   "cell_type": "code",
   "execution_count": 10,
   "metadata": {},
   "outputs": [
    {
     "name": "stdout",
     "output_type": "stream",
     "text": [
      "wine=紅酒\n",
      "entree=雞排\n",
      "dessert=奶昔\n"
     ]
    }
   ],
   "source": [
    "menu1('紅酒','雞排')"
   ]
  }
 ],
 "metadata": {
  "kernelspec": {
   "display_name": "Python 3.7.3 ('venv001')",
   "language": "python",
   "name": "python3"
  },
  "language_info": {
   "codemirror_mode": {
    "name": "ipython",
    "version": 3
   },
   "file_extension": ".py",
   "mimetype": "text/x-python",
   "name": "python",
   "nbconvert_exporter": "python",
   "pygments_lexer": "ipython3",
   "version": "3.7.3"
  },
  "orig_nbformat": 4,
  "vscode": {
   "interpreter": {
    "hash": "f34e4f0de2496ba420d8f8acdfb27536031422235674b4ec33b56b58e2d87636"
   }
  }
 },
 "nbformat": 4,
 "nbformat_minor": 2
}
