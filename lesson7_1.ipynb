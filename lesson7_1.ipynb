{
 "cells": [
  {
   "cell_type": "code",
   "execution_count": 1,
   "metadata": {},
   "outputs": [
    {
     "name": "stdout",
     "output_type": "stream",
     "text": [
      "XX\n"
     ]
    }
   ],
   "source": [
    "print(\"XX\")"
   ]
  },
  {
   "cell_type": "code",
   "execution_count": 2,
   "metadata": {},
   "outputs": [],
   "source": [
    "def menu(wine, entree, dessert):\n",
    "    print(f\"酒是{wine}\")\n",
    "    print(f\"主餐是{entree}\")\n",
    "    print(f\"甜點是{dessert}\")"
   ]
  },
  {
   "cell_type": "code",
   "execution_count": 7,
   "metadata": {},
   "outputs": [
    {
     "name": "stdout",
     "output_type": "stream",
     "text": [
      "酒是白酒\n",
      "主餐是牛排\n",
      "甜點是蛋糕\n"
     ]
    }
   ],
   "source": [
    "menu(\"白酒\",\"牛排\",\"蛋糕\")"
   ]
  },
  {
   "cell_type": "code",
   "execution_count": 9,
   "metadata": {},
   "outputs": [
    {
     "name": "stdout",
     "output_type": "stream",
     "text": [
      "酒是紅酒\n",
      "主餐是牛排\n",
      "甜點是寶貝\n"
     ]
    }
   ],
   "source": [
    "#引數名稱的呼叫\n",
    "menu(entree=\"牛排\", dessert=\"寶貝\", wine=\"紅酒\")"
   ]
  },
  {
   "cell_type": "code",
   "execution_count": 11,
   "metadata": {},
   "outputs": [
    {
     "name": "stdout",
     "output_type": "stream",
     "text": [
      "酒是威士忌\n",
      "主餐是龍蝦\n",
      "甜點是鮑魚\n"
     ]
    }
   ],
   "source": [
    "#混合呼叫\n",
    "menu(\"威士忌\", dessert=\"鮑魚\", entree=\"龍蝦\")"
   ]
  },
  {
   "cell_type": "code",
   "execution_count": null,
   "metadata": {},
   "outputs": [],
   "source": []
  }
 ],
 "metadata": {
  "kernelspec": {
   "display_name": "Python 3.7.3 ('venv001')",
   "language": "python",
   "name": "python3"
  },
  "language_info": {
   "codemirror_mode": {
    "name": "ipython",
    "version": 3
   },
   "file_extension": ".py",
   "mimetype": "text/x-python",
   "name": "python",
   "nbconvert_exporter": "python",
   "pygments_lexer": "ipython3",
   "version": "3.7.3"
  },
  "orig_nbformat": 4,
  "vscode": {
   "interpreter": {
    "hash": "f34e4f0de2496ba420d8f8acdfb27536031422235674b4ec33b56b58e2d87636"
   }
  }
 },
 "nbformat": 4,
 "nbformat_minor": 2
}
